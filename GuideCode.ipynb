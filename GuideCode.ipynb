{
 "cells": [
  {
   "cell_type": "markdown",
   "metadata": {},
   "source": [
    "# Problema Guía.\n",
    "\n",
    "En este código se muestra la solución de un problema guía acerca del blending. Este problema fue proporcionado por el docente de la asignatura. Tiene como objetivo guiarnos para generar un recurso más general y útil. \n"
   ]
  },
  {
   "cell_type": "code",
   "execution_count": 1,
   "metadata": {},
   "outputs": [],
   "source": [
    "from pulp import *"
   ]
  },
  {
   "cell_type": "code",
   "execution_count": 2,
   "metadata": {},
   "outputs": [
    {
     "name": "stdout",
     "output_type": "stream",
     "text": [
      "El óptimo es:\n",
      "G11 = 2000.0\n",
      "G12 = 2200.0\n",
      "G13 = 800.0\n",
      "G21 = 1000.0\n",
      "G22 = 4000.0\n",
      "G23 = 0.0\n",
      "G31 = 0.0\n",
      "G32 = 3300.0\n",
      "G33 = 200.0\n",
      "P1 = 0.0\n",
      "P2 = 750.0\n",
      "P3 = 0.0\n",
      "El valor de la función objetivo en el óptimo es: 287750.0\n"
     ]
    },
    {
     "name": "stderr",
     "output_type": "stream",
     "text": [
      "Bad pipe message: %s [b'0.9,image/avif,image/webp,image/apng,*/*;q=0.8,application/signed-exchange;v=b3;q=0.7\\r\\nHost: localhost:39511\\r\\nUs', b'-Agent: Mozilla/5.0 (Windows NT 10.0; Win64; x64) AppleWebKit/537.36 (KHTML, like Gecko) Chrome/125.']\n",
      "Bad pipe message: %s [b'0.0 Safari/537.36\\r\\nAccept-Encoding: gzip, defla']\n",
      "Bad pipe message: %s [b', br, zstd\\r\\nAccept-Language: es-ES,es;q=0.9\\r\\nCache-Control: max-age=0\\r\\nReferer: https://github.com/\\r\\nX-Request-ID: ', b'76a74791d76bf26bfece9086741936\\r\\nX-Real-IP: 10.240.2.23\\r\\nX-Forwarded-Port: 443\\r\\nX-Forwarded-Scheme:']\n",
      "Bad pipe message: %s [b'ttps\\r\\nX-Original-URI: /\\r\\nX-Sche']\n",
      "Bad pipe message: %s [b': https\\r\\nsec-fetch-site: cross-site\\r\\nsec-fetch-mode: navigate\\r\\nsec-fetch-dest: document\\r\\nsec-ch-ua: \"Google ', b'rome\";v=\"125\", \"Chromium\";v=\"125\", \"Not.A/Brand\";v=\"24\"\\r\\nsec-ch-ua']\n"
     ]
    }
   ],
   "source": [
    "# Crear un problema de maximización (12 variables y 13 restricciones)\n",
    "\n",
    "problema = LpProblem(\"Maximizar_ganancias\", LpMaximize)\n",
    "\n",
    "# Variables de decisión\n",
    "\n",
    "# GIJ : G(I: crude type, J: Gas type)\n",
    "\n",
    "G11 = LpVariable(\"G11\", lowBound = 0 , cat ='Integer')\n",
    "G12 = LpVariable(\"G12\", lowBound = 0 , cat ='Integer')\n",
    "G13 = LpVariable(\"G13\", lowBound = 0 , cat ='Integer')\n",
    "G21 = LpVariable(\"G21\", lowBound = 0 , cat ='Integer')\n",
    "G22 = LpVariable(\"G22\", lowBound = 0 , cat ='Integer')\n",
    "G23 = LpVariable(\"G23\", lowBound = 0 , cat ='Integer')\n",
    "G31 = LpVariable(\"G31\", lowBound = 0 , cat ='Integer')\n",
    "G32 = LpVariable(\"G32\", lowBound = 0 , cat ='Integer')\n",
    "G33 = LpVariable(\"G33\", lowBound = 0 , cat ='Integer')\n",
    "P1 = LpVariable(\"P1\", lowBound = 0 , cat ='Integer')\n",
    "P2 = LpVariable(\"P2\", lowBound = 0 , cat ='Integer')\n",
    "P3 = LpVariable(\"P3\", lowBound = 0 , cat ='Integer')\n",
    "\n",
    "\n",
    "# Función Objetivo\n",
    "\n",
    "problema += 21*G11 + 11*G12 + G13 + 31*G21 + 21*G22 + 11*G23 + 41*G31 + 31*G32 + 21*G33 - P1 - P2 - P3\n",
    "\n",
    "\n",
    "# Restricciones\n",
    "\n",
    "problema += G11 + G12 + G13 <= 5000\n",
    "problema += G21 + G22 + G23 <= 5000\n",
    "problema += G31 + G32 + G33 <= 5000\n",
    "problema += G11 + G12 + G13 + G21 + G22 + G23 + G31 + G32 + G33 <= 14000\n",
    "problema += G11 + G21 + G31 - (10*P1) == 3000\n",
    "problema += G12 + G22 + G32 - (10*P2) == 2000\n",
    "problema += G13 + G23 + G33 - (10*P3) == 1000\n",
    "problema += 2*G11 - 4*G21 -2*G31 >= 0\n",
    "problema += 4*G12 - 2*G22 >= 0\n",
    "problema += 6*G13 + 2*G33 >= 0\n",
    "problema += -0.005*G11 + 0.01*G21 + 0.02*G31 <=0\n",
    "problema += -0.015*G12 + 0.01*G32 <=0\n",
    "problema += -0.005*G13 + 0.01*G23 + 0.02*G33 <=0\n",
    "\n",
    "# Resolver el problema\n",
    "\n",
    "problema.solve(PULP_CBC_CMD(msg=False))\n",
    "\n",
    "# Resultados\n",
    "\n",
    "print(\"El óptimo es:\")\n",
    "for v in problema.variables():\n",
    "    print(f'{v.name} = {v.varValue}')\n",
    "\n",
    "print(\"El valor de la función objetivo en el óptimo es:\", problema.objective.value())"
   ]
  }
 ],
 "metadata": {
  "kernelspec": {
   "display_name": "Python 3",
   "language": "python",
   "name": "python3"
  },
  "language_info": {
   "codemirror_mode": {
    "name": "ipython",
    "version": 3
   },
   "file_extension": ".py",
   "mimetype": "text/x-python",
   "name": "python",
   "nbconvert_exporter": "python",
   "pygments_lexer": "ipython3",
   "version": "3.10.13"
  }
 },
 "nbformat": 4,
 "nbformat_minor": 2
}
